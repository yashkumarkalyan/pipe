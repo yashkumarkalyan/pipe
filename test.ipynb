{
 "cells": [
  {
   "cell_type": "code",
   "execution_count": null,
   "id": "92bcf558",
   "metadata": {},
   "outputs": [],
   "source": [
    "import boto3\n",
    "import pandas as pd\n",
    "\n",
    "# config\n",
    "endpoint_name = 'creditcard-endpoint'\n",
    "region = 'us-east-1'\n",
    "runtime = boto3.client('sagemaker-runtime', region_name=region)\n",
    "\n",
    "# load a few test rows\n",
    "df = pd.read_csv('https://my-mlops-bucket-1234.s3.amazonaws.com/data/test.csv').head(10)\n",
    "payload = df.drop('Class', axis=1).to_csv(header=False, index=False).encode('utf-8')\n",
    "\n",
    "# invoke endpoint\n",
    "response = runtime.invoke_endpoint(\n",
    "    EndpointName=endpoint_name,\n",
    "    ContentType='text/csv',\n",
    "    Body=payload\n",
    ")\n",
    "\n",
    "predictions = response['Body'].read().decode('utf-8').splitlines()\n",
    "print(\"Predictions:\", predictions)\n"
   ]
  }
 ],
 "metadata": {
  "language_info": {
   "name": "python"
  }
 },
 "nbformat": 4,
 "nbformat_minor": 5
}
