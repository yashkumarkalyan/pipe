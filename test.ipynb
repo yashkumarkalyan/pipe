{
 "cells": [
  {
   "cell_type": "code",
   "execution_count": 2,
   "id": "0198282c-2e6b-471d-9217-3454830f45d1",
   "metadata": {},
   "outputs": [
    {
     "name": "stdout",
     "output_type": "stream",
     "text": [
      "Requirement already satisfied: pandas in /home/ec2-user/anaconda3/envs/python3/lib/python3.10/site-packages (from -r requirements.txt (line 1)) (1.5.3)\n",
      "Requirement already satisfied: numpy in /home/ec2-user/anaconda3/envs/python3/lib/python3.10/site-packages (from -r requirements.txt (line 2)) (1.26.4)\n",
      "Requirement already satisfied: scikit-learn in /home/ec2-user/anaconda3/envs/python3/lib/python3.10/site-packages (from -r requirements.txt (line 3)) (1.6.1)\n",
      "Collecting xgboost (from -r requirements.txt (line 4))\n",
      "  Downloading xgboost-3.0.0-py3-none-manylinux2014_x86_64.whl.metadata (2.0 kB)\n",
      "Requirement already satisfied: sagemaker in /home/ec2-user/anaconda3/envs/python3/lib/python3.10/site-packages (from -r requirements.txt (line 5)) (2.243.0)\n",
      "Requirement already satisfied: boto3 in /home/ec2-user/anaconda3/envs/python3/lib/python3.10/site-packages (from -r requirements.txt (line 6)) (1.37.22)\n",
      "Requirement already satisfied: protobuf in /home/ec2-user/anaconda3/envs/python3/lib/python3.10/site-packages (from -r requirements.txt (line 7)) (5.29.4)\n",
      "Requirement already satisfied: awscli in /home/ec2-user/anaconda3/envs/python3/lib/python3.10/site-packages (from -r requirements.txt (line 8)) (1.38.22)\n",
      "Requirement already satisfied: joblib in /home/ec2-user/anaconda3/envs/python3/lib/python3.10/site-packages (from -r requirements.txt (line 9)) (1.4.2)\n",
      "Requirement already satisfied: python-dateutil>=2.8.1 in /home/ec2-user/anaconda3/envs/python3/lib/python3.10/site-packages (from pandas->-r requirements.txt (line 1)) (2.9.0.post0)\n",
      "Requirement already satisfied: pytz>=2020.1 in /home/ec2-user/anaconda3/envs/python3/lib/python3.10/site-packages (from pandas->-r requirements.txt (line 1)) (2025.1)\n",
      "Requirement already satisfied: scipy>=1.6.0 in /home/ec2-user/anaconda3/envs/python3/lib/python3.10/site-packages (from scikit-learn->-r requirements.txt (line 3)) (1.15.1)\n",
      "Requirement already satisfied: threadpoolctl>=3.1.0 in /home/ec2-user/anaconda3/envs/python3/lib/python3.10/site-packages (from scikit-learn->-r requirements.txt (line 3)) (3.5.0)\n",
      "Requirement already satisfied: attrs<24,>=23.1.0 in /home/ec2-user/anaconda3/envs/python3/lib/python3.10/site-packages (from sagemaker->-r requirements.txt (line 5)) (23.2.0)\n",
      "Requirement already satisfied: cloudpickle>=2.2.1 in /home/ec2-user/anaconda3/envs/python3/lib/python3.10/site-packages (from sagemaker->-r requirements.txt (line 5)) (3.1.1)\n",
      "Requirement already satisfied: docker in /home/ec2-user/anaconda3/envs/python3/lib/python3.10/site-packages (from sagemaker->-r requirements.txt (line 5)) (7.1.0)\n",
      "Requirement already satisfied: fastapi in /home/ec2-user/anaconda3/envs/python3/lib/python3.10/site-packages (from sagemaker->-r requirements.txt (line 5)) (0.115.12)\n",
      "Requirement already satisfied: google-pasta in /home/ec2-user/anaconda3/envs/python3/lib/python3.10/site-packages (from sagemaker->-r requirements.txt (line 5)) (0.2.0)\n",
      "Requirement already satisfied: importlib-metadata<7.0,>=1.4.0 in /home/ec2-user/anaconda3/envs/python3/lib/python3.10/site-packages (from sagemaker->-r requirements.txt (line 5)) (6.11.0)\n",
      "Requirement already satisfied: jsonschema in /home/ec2-user/anaconda3/envs/python3/lib/python3.10/site-packages (from sagemaker->-r requirements.txt (line 5)) (4.23.0)\n",
      "Requirement already satisfied: omegaconf<=2.3,>=2.2 in /home/ec2-user/anaconda3/envs/python3/lib/python3.10/site-packages (from sagemaker->-r requirements.txt (line 5)) (2.3.0)\n",
      "Requirement already satisfied: packaging>=20.0 in /home/ec2-user/anaconda3/envs/python3/lib/python3.10/site-packages (from sagemaker->-r requirements.txt (line 5)) (21.3)\n",
      "Requirement already satisfied: pathos in /home/ec2-user/anaconda3/envs/python3/lib/python3.10/site-packages (from sagemaker->-r requirements.txt (line 5)) (0.3.3)\n",
      "Requirement already satisfied: platformdirs in /home/ec2-user/anaconda3/envs/python3/lib/python3.10/site-packages (from sagemaker->-r requirements.txt (line 5)) (4.3.6)\n",
      "Requirement already satisfied: psutil in /home/ec2-user/anaconda3/envs/python3/lib/python3.10/site-packages (from sagemaker->-r requirements.txt (line 5)) (6.1.1)\n",
      "Requirement already satisfied: pyyaml~=6.0 in /home/ec2-user/anaconda3/envs/python3/lib/python3.10/site-packages (from sagemaker->-r requirements.txt (line 5)) (6.0.2)\n",
      "Requirement already satisfied: requests in /home/ec2-user/anaconda3/envs/python3/lib/python3.10/site-packages (from sagemaker->-r requirements.txt (line 5)) (2.32.3)\n",
      "Requirement already satisfied: sagemaker-core<2.0.0,>=1.0.17 in /home/ec2-user/anaconda3/envs/python3/lib/python3.10/site-packages (from sagemaker->-r requirements.txt (line 5)) (1.0.27)\n",
      "Requirement already satisfied: schema in /home/ec2-user/anaconda3/envs/python3/lib/python3.10/site-packages (from sagemaker->-r requirements.txt (line 5)) (0.7.7)\n",
      "Requirement already satisfied: smdebug-rulesconfig==1.0.1 in /home/ec2-user/anaconda3/envs/python3/lib/python3.10/site-packages (from sagemaker->-r requirements.txt (line 5)) (1.0.1)\n",
      "Requirement already satisfied: tblib<4,>=1.7.0 in /home/ec2-user/anaconda3/envs/python3/lib/python3.10/site-packages (from sagemaker->-r requirements.txt (line 5)) (3.0.0)\n",
      "Requirement already satisfied: tqdm in /home/ec2-user/anaconda3/envs/python3/lib/python3.10/site-packages (from sagemaker->-r requirements.txt (line 5)) (4.67.1)\n",
      "Requirement already satisfied: urllib3<3.0.0,>=1.26.8 in /home/ec2-user/anaconda3/envs/python3/lib/python3.10/site-packages (from sagemaker->-r requirements.txt (line 5)) (2.3.0)\n",
      "Requirement already satisfied: uvicorn in /home/ec2-user/anaconda3/envs/python3/lib/python3.10/site-packages (from sagemaker->-r requirements.txt (line 5)) (0.34.0)\n",
      "Requirement already satisfied: botocore<1.38.0,>=1.37.22 in /home/ec2-user/anaconda3/envs/python3/lib/python3.10/site-packages (from boto3->-r requirements.txt (line 6)) (1.37.22)\n",
      "Requirement already satisfied: jmespath<2.0.0,>=0.7.1 in /home/ec2-user/anaconda3/envs/python3/lib/python3.10/site-packages (from boto3->-r requirements.txt (line 6)) (1.0.1)\n",
      "Requirement already satisfied: s3transfer<0.12.0,>=0.11.0 in /home/ec2-user/anaconda3/envs/python3/lib/python3.10/site-packages (from boto3->-r requirements.txt (line 6)) (0.11.2)\n",
      "Requirement already satisfied: docutils<0.17,>=0.10 in /home/ec2-user/anaconda3/envs/python3/lib/python3.10/site-packages (from awscli->-r requirements.txt (line 8)) (0.16)\n",
      "Requirement already satisfied: colorama<0.4.7,>=0.2.5 in /home/ec2-user/anaconda3/envs/python3/lib/python3.10/site-packages (from awscli->-r requirements.txt (line 8)) (0.4.6)\n",
      "Requirement already satisfied: rsa<4.8,>=3.1.2 in /home/ec2-user/anaconda3/envs/python3/lib/python3.10/site-packages (from awscli->-r requirements.txt (line 8)) (4.7.2)\n",
      "Requirement already satisfied: zipp>=0.5 in /home/ec2-user/anaconda3/envs/python3/lib/python3.10/site-packages (from importlib-metadata<7.0,>=1.4.0->sagemaker->-r requirements.txt (line 5)) (3.21.0)\n",
      "Requirement already satisfied: antlr4-python3-runtime==4.9.* in /home/ec2-user/anaconda3/envs/python3/lib/python3.10/site-packages (from omegaconf<=2.3,>=2.2->sagemaker->-r requirements.txt (line 5)) (4.9.3)\n",
      "Requirement already satisfied: pyparsing!=3.0.5,>=2.0.2 in /home/ec2-user/anaconda3/envs/python3/lib/python3.10/site-packages (from packaging>=20.0->sagemaker->-r requirements.txt (line 5)) (3.2.1)\n",
      "Requirement already satisfied: six>=1.5 in /home/ec2-user/anaconda3/envs/python3/lib/python3.10/site-packages (from python-dateutil>=2.8.1->pandas->-r requirements.txt (line 1)) (1.17.0)\n",
      "Requirement already satisfied: pyasn1>=0.1.3 in /home/ec2-user/anaconda3/envs/python3/lib/python3.10/site-packages (from rsa<4.8,>=3.1.2->awscli->-r requirements.txt (line 8)) (0.6.1)\n",
      "Requirement already satisfied: pydantic<3.0.0,>=2.0.0 in /home/ec2-user/anaconda3/envs/python3/lib/python3.10/site-packages (from sagemaker-core<2.0.0,>=1.0.17->sagemaker->-r requirements.txt (line 5)) (2.11.0)\n",
      "Requirement already satisfied: rich<14.0.0,>=13.0.0 in /home/ec2-user/anaconda3/envs/python3/lib/python3.10/site-packages (from sagemaker-core<2.0.0,>=1.0.17->sagemaker->-r requirements.txt (line 5)) (13.9.4)\n",
      "Requirement already satisfied: mock<5.0,>4.0 in /home/ec2-user/anaconda3/envs/python3/lib/python3.10/site-packages (from sagemaker-core<2.0.0,>=1.0.17->sagemaker->-r requirements.txt (line 5)) (4.0.3)\n",
      "Requirement already satisfied: jsonschema-specifications>=2023.03.6 in /home/ec2-user/anaconda3/envs/python3/lib/python3.10/site-packages (from jsonschema->sagemaker->-r requirements.txt (line 5)) (2024.10.1)\n",
      "Requirement already satisfied: referencing>=0.28.4 in /home/ec2-user/anaconda3/envs/python3/lib/python3.10/site-packages (from jsonschema->sagemaker->-r requirements.txt (line 5)) (0.36.2)\n",
      "Requirement already satisfied: rpds-py>=0.7.1 in /home/ec2-user/anaconda3/envs/python3/lib/python3.10/site-packages (from jsonschema->sagemaker->-r requirements.txt (line 5)) (0.22.3)\n",
      "Requirement already satisfied: charset_normalizer<4,>=2 in /home/ec2-user/anaconda3/envs/python3/lib/python3.10/site-packages (from requests->sagemaker->-r requirements.txt (line 5)) (3.4.1)\n",
      "Requirement already satisfied: idna<4,>=2.5 in /home/ec2-user/anaconda3/envs/python3/lib/python3.10/site-packages (from requests->sagemaker->-r requirements.txt (line 5)) (3.10)\n",
      "Requirement already satisfied: certifi>=2017.4.17 in /home/ec2-user/anaconda3/envs/python3/lib/python3.10/site-packages (from requests->sagemaker->-r requirements.txt (line 5)) (2025.1.31)\n",
      "Requirement already satisfied: starlette<0.47.0,>=0.40.0 in /home/ec2-user/anaconda3/envs/python3/lib/python3.10/site-packages (from fastapi->sagemaker->-r requirements.txt (line 5)) (0.46.1)\n",
      "Requirement already satisfied: typing-extensions>=4.8.0 in /home/ec2-user/anaconda3/envs/python3/lib/python3.10/site-packages (from fastapi->sagemaker->-r requirements.txt (line 5)) (4.12.2)\n",
      "Requirement already satisfied: ppft>=1.7.6.9 in /home/ec2-user/anaconda3/envs/python3/lib/python3.10/site-packages (from pathos->sagemaker->-r requirements.txt (line 5)) (1.7.6.9)\n",
      "Requirement already satisfied: dill>=0.3.9 in /home/ec2-user/anaconda3/envs/python3/lib/python3.10/site-packages (from pathos->sagemaker->-r requirements.txt (line 5)) (0.3.9)\n",
      "Requirement already satisfied: pox>=0.3.5 in /home/ec2-user/anaconda3/envs/python3/lib/python3.10/site-packages (from pathos->sagemaker->-r requirements.txt (line 5)) (0.3.5)\n",
      "Requirement already satisfied: multiprocess>=0.70.17 in /home/ec2-user/anaconda3/envs/python3/lib/python3.10/site-packages (from pathos->sagemaker->-r requirements.txt (line 5)) (0.70.17)\n",
      "Requirement already satisfied: click>=7.0 in /home/ec2-user/anaconda3/envs/python3/lib/python3.10/site-packages (from uvicorn->sagemaker->-r requirements.txt (line 5)) (8.1.8)\n",
      "Requirement already satisfied: h11>=0.8 in /home/ec2-user/anaconda3/envs/python3/lib/python3.10/site-packages (from uvicorn->sagemaker->-r requirements.txt (line 5)) (0.14.0)\n",
      "Requirement already satisfied: annotated-types>=0.6.0 in /home/ec2-user/anaconda3/envs/python3/lib/python3.10/site-packages (from pydantic<3.0.0,>=2.0.0->sagemaker-core<2.0.0,>=1.0.17->sagemaker->-r requirements.txt (line 5)) (0.7.0)\n",
      "Requirement already satisfied: pydantic-core==2.33.0 in /home/ec2-user/anaconda3/envs/python3/lib/python3.10/site-packages (from pydantic<3.0.0,>=2.0.0->sagemaker-core<2.0.0,>=1.0.17->sagemaker->-r requirements.txt (line 5)) (2.33.0)\n",
      "Requirement already satisfied: typing-inspection>=0.4.0 in /home/ec2-user/anaconda3/envs/python3/lib/python3.10/site-packages (from pydantic<3.0.0,>=2.0.0->sagemaker-core<2.0.0,>=1.0.17->sagemaker->-r requirements.txt (line 5)) (0.4.0)\n",
      "Requirement already satisfied: markdown-it-py>=2.2.0 in /home/ec2-user/anaconda3/envs/python3/lib/python3.10/site-packages (from rich<14.0.0,>=13.0.0->sagemaker-core<2.0.0,>=1.0.17->sagemaker->-r requirements.txt (line 5)) (3.0.0)\n",
      "Requirement already satisfied: pygments<3.0.0,>=2.13.0 in /home/ec2-user/anaconda3/envs/python3/lib/python3.10/site-packages (from rich<14.0.0,>=13.0.0->sagemaker-core<2.0.0,>=1.0.17->sagemaker->-r requirements.txt (line 5)) (2.19.1)\n",
      "Requirement already satisfied: anyio<5,>=3.6.2 in /home/ec2-user/anaconda3/envs/python3/lib/python3.10/site-packages (from starlette<0.47.0,>=0.40.0->fastapi->sagemaker->-r requirements.txt (line 5)) (4.8.0)\n",
      "Requirement already satisfied: exceptiongroup>=1.0.2 in /home/ec2-user/anaconda3/envs/python3/lib/python3.10/site-packages (from anyio<5,>=3.6.2->starlette<0.47.0,>=0.40.0->fastapi->sagemaker->-r requirements.txt (line 5)) (1.2.2)\n",
      "Requirement already satisfied: sniffio>=1.1 in /home/ec2-user/anaconda3/envs/python3/lib/python3.10/site-packages (from anyio<5,>=3.6.2->starlette<0.47.0,>=0.40.0->fastapi->sagemaker->-r requirements.txt (line 5)) (1.3.1)\n",
      "Requirement already satisfied: mdurl~=0.1 in /home/ec2-user/anaconda3/envs/python3/lib/python3.10/site-packages (from markdown-it-py>=2.2.0->rich<14.0.0,>=13.0.0->sagemaker-core<2.0.0,>=1.0.17->sagemaker->-r requirements.txt (line 5)) (0.1.2)\n",
      "Downloading xgboost-3.0.0-py3-none-manylinux2014_x86_64.whl (4.9 MB)\n",
      "\u001b[2K   \u001b[90m━━━━━━━━━━━━━━━━━━━━━━━━━━━━━━━━━━━━━━━━\u001b[0m \u001b[32m4.9/4.9 MB\u001b[0m \u001b[31m88.9 MB/s\u001b[0m eta \u001b[36m0:00:00\u001b[0m\n",
      "\u001b[?25hInstalling collected packages: xgboost\n",
      "Successfully installed xgboost-3.0.0\n"
     ]
    }
   ],
   "source": [
    "!pip install -r requirements.txt"
   ]
  },
  {
   "cell_type": "code",
   "execution_count": 51,
   "id": "6d03c9e9-95c7-4ef6-9d3f-1141c26a9976",
   "metadata": {},
   "outputs": [
    {
     "name": "stdout",
     "output_type": "stream",
     "text": [
      "✅ Preprocessing done. Uploaded train/test to S3.\n"
     ]
    }
   ],
   "source": [
    "!python preprocess.py"
   ]
  },
  {
   "cell_type": "code",
   "execution_count": 9,
   "id": "46f0943d-0b4a-4f25-be7c-b41e83cc7e25",
   "metadata": {},
   "outputs": [
    {
     "name": "stdout",
     "output_type": "stream",
     "text": [
      "S3_BUCKET = fraud-detectml1\n",
      "AWS_REGION = us-east-1\n",
      "FEATURE_GROUP_NAME = creditcard-fg1\n",
      "MODEL_PACKAGE_GROUP_NAME = creditcard-mpg\n",
      "ENDPOINT_NAME = creditcard-endpoint\n"
     ]
    }
   ],
   "source": [
    "import os\n",
    "\n",
    "# Set required environment variables\n",
    "os.environ['S3_BUCKET'] = 'fraud-detectml1'\n",
    "os.environ['AWS_REGION'] = 'us-east-1'\n",
    "os.environ['FEATURE_GROUP_NAME'] = 'creditcard-fg1'\n",
    "os.environ['MODEL_PACKAGE_GROUP_NAME'] = 'creditcard-mpg'\n",
    "os.environ['ENDPOINT_NAME'] = 'creditcard-endpoint'\n",
    "\n",
    "# Optional: Print to confirm\n",
    "for var in ['S3_BUCKET', 'AWS_REGION', 'FEATURE_GROUP_NAME', 'MODEL_PACKAGE_GROUP_NAME', 'ENDPOINT_NAME']:\n",
    "    print(f\"{var} = {os.environ[var]}\")\n"
   ]
  },
  {
   "cell_type": "code",
   "execution_count": 10,
   "id": "678e711b-0f6a-46b5-ae40-4c50eb7bbaa1",
   "metadata": {},
   "outputs": [
    {
     "name": "stdout",
     "output_type": "stream",
     "text": [
      "Preprocessing done. Uploaded train/test to S3.\n"
     ]
    }
   ],
   "source": [
    "!python preprocess.py"
   ]
  },
  {
   "cell_type": "code",
   "execution_count": 15,
   "id": "c468a48c-5f39-45ef-8f6c-8412b4b98ec0",
   "metadata": {},
   "outputs": [
    {
     "name": "stdout",
     "output_type": "stream",
     "text": [
      "/home/ec2-user/anaconda3/envs/python3/lib/python3.10/site-packages/pydantic/_internal/_fields.py:198: UserWarning: Field name \"json\" in \"MonitoringDatasetFormat\" shadows an attribute in parent \"Base\"\n",
      "  warnings.warn(\n",
      "\u001b[2;36m[04/08/25 22:55:32]\u001b[0m\u001b[2;36m \u001b[0m\u001b[1;94mINFO    \u001b[0m Found credentials from IAM      \u001b]8;id=104984;file:///home/ec2-user/anaconda3/envs/python3/lib/python3.10/site-packages/botocore/credentials.py\u001b\\\u001b[2mcredentials.py\u001b[0m\u001b]8;;\u001b\\\u001b[2m:\u001b[0m\u001b]8;id=601428;file:///home/ec2-user/anaconda3/envs/python3/lib/python3.10/site-packages/botocore/credentials.py#1132\u001b\\\u001b[2m1132\u001b[0m\u001b]8;;\u001b\\\n",
      "\u001b[2;36m                    \u001b[0m         Role:                           \u001b[2m                   \u001b[0m\n",
      "\u001b[2;36m                    \u001b[0m         BaseNotebookInstanceEc2Instance \u001b[2m                   \u001b[0m\n",
      "\u001b[2;36m                    \u001b[0m         Role                            \u001b[2m                   \u001b[0m\n",
      "sagemaker.config INFO - Not applying SDK defaults from location: /etc/xdg/sagemaker/config.yaml\n",
      "sagemaker.config INFO - Not applying SDK defaults from location: /home/ec2-user/.config/sagemaker/config.yaml\n",
      "\u001b[2;36m[04/08/25 22:55:33]\u001b[0m\u001b[2;36m \u001b[0m\u001b[1;94mINFO    \u001b[0m Found credentials from IAM      \u001b]8;id=330731;file:///home/ec2-user/anaconda3/envs/python3/lib/python3.10/site-packages/botocore/credentials.py\u001b\\\u001b[2mcredentials.py\u001b[0m\u001b]8;;\u001b\\\u001b[2m:\u001b[0m\u001b]8;id=278169;file:///home/ec2-user/anaconda3/envs/python3/lib/python3.10/site-packages/botocore/credentials.py#1132\u001b\\\u001b[2m1132\u001b[0m\u001b]8;;\u001b\\\n",
      "\u001b[2;36m                    \u001b[0m         Role:                           \u001b[2m                   \u001b[0m\n",
      "\u001b[2;36m                    \u001b[0m         BaseNotebookInstanceEc2Instance \u001b[2m                   \u001b[0m\n",
      "\u001b[2;36m                    \u001b[0m         Role                            \u001b[2m                   \u001b[0m\n",
      "✅ No existing feature group found; continuing.\n",
      "🚀 Creating feature group 'creditcard-fg2'...\n",
      "⏳ Waiting for feature group to become ACTIVE...\n",
      "  • status: Creating\n",
      "  • status: Creating\n",
      "  • status: Creating\n",
      "  • status: Creating\n",
      "  • status: Created\n",
      "✅ Feature group is ACTIVE.\n",
      "📥 Ingesting data into feature store...\n",
      "\u001b[2;36m[04/08/25 22:55:55]\u001b[0m\u001b[2;36m \u001b[0m\u001b[1;94mINFO    \u001b[0m Found credentials from IAM      \u001b]8;id=615538;file:///home/ec2-user/anaconda3/envs/python3/lib/python3.10/site-packages/botocore/credentials.py\u001b\\\u001b[2mcredentials.py\u001b[0m\u001b]8;;\u001b\\\u001b[2m:\u001b[0m\u001b]8;id=997686;file:///home/ec2-user/anaconda3/envs/python3/lib/python3.10/site-packages/botocore/credentials.py#1132\u001b\\\u001b[2m1132\u001b[0m\u001b]8;;\u001b\\\n",
      "\u001b[2;36m                    \u001b[0m         Role:                           \u001b[2m                   \u001b[0m\n",
      "\u001b[2;36m                    \u001b[0m         BaseNotebookInstanceEc2Instance \u001b[2m                   \u001b[0m\n",
      "\u001b[2;36m                    \u001b[0m         Role                            \u001b[2m                   \u001b[0m\n",
      "\u001b[2;36m                   \u001b[0m\u001b[2;36m \u001b[0m\u001b[1;94mINFO    \u001b[0m Found credentials from IAM      \u001b]8;id=888084;file:///home/ec2-user/anaconda3/envs/python3/lib/python3.10/site-packages/botocore/credentials.py\u001b\\\u001b[2mcredentials.py\u001b[0m\u001b]8;;\u001b\\\u001b[2m:\u001b[0m\u001b]8;id=957948;file:///home/ec2-user/anaconda3/envs/python3/lib/python3.10/site-packages/botocore/credentials.py#1132\u001b\\\u001b[2m1132\u001b[0m\u001b]8;;\u001b\\\n",
      "\u001b[2;36m                    \u001b[0m         Role:                           \u001b[2m                   \u001b[0m\n",
      "\u001b[2;36m                    \u001b[0m         BaseNotebookInstanceEc2Instance \u001b[2m                   \u001b[0m\n",
      "\u001b[2;36m                    \u001b[0m         Role                            \u001b[2m                   \u001b[0m\n",
      "\u001b[2;36m                   \u001b[0m\u001b[2;36m \u001b[0m\u001b[1;94mINFO    \u001b[0m Found credentials from IAM      \u001b]8;id=703446;file:///home/ec2-user/anaconda3/envs/python3/lib/python3.10/site-packages/botocore/credentials.py\u001b\\\u001b[2mcredentials.py\u001b[0m\u001b]8;;\u001b\\\u001b[2m:\u001b[0m\u001b]8;id=365056;file:///home/ec2-user/anaconda3/envs/python3/lib/python3.10/site-packages/botocore/credentials.py#1132\u001b\\\u001b[2m1132\u001b[0m\u001b]8;;\u001b\\\n",
      "\u001b[2;36m                    \u001b[0m         Role:                           \u001b[2m                   \u001b[0m\n",
      "\u001b[2;36m                    \u001b[0m         BaseNotebookInstanceEc2Instance \u001b[2m                   \u001b[0m\n",
      "\u001b[2;36m                    \u001b[0m         Role                            \u001b[2m                   \u001b[0m\n",
      "\u001b[2;36m                   \u001b[0m\u001b[2;36m \u001b[0m\u001b[1;94mINFO    \u001b[0m Started ingesting index \u001b[1;36m2\u001b[0m to \u001b[1;36m4\u001b[0m \u001b]8;id=719738;file:///home/ec2-user/anaconda3/envs/python3/lib/python3.10/site-packages/sagemaker/feature_store/feature_group.py\u001b\\\u001b[2mfeature_group.py\u001b[0m\u001b]8;;\u001b\\\u001b[2m:\u001b[0m\u001b]8;id=771840;file:///home/ec2-user/anaconda3/envs/python3/lib/python3.10/site-packages/sagemaker/feature_store/feature_group.py#251\u001b\\\u001b[2m251\u001b[0m\u001b]8;;\u001b\\\n",
      "\u001b[2;36m                   \u001b[0m\u001b[2;36m \u001b[0m\u001b[1;94mINFO    \u001b[0m Started ingesting index \u001b[1;36m4\u001b[0m to \u001b[1;36m5\u001b[0m \u001b]8;id=306499;file:///home/ec2-user/anaconda3/envs/python3/lib/python3.10/site-packages/sagemaker/feature_store/feature_group.py\u001b\\\u001b[2mfeature_group.py\u001b[0m\u001b]8;;\u001b\\\u001b[2m:\u001b[0m\u001b]8;id=201619;file:///home/ec2-user/anaconda3/envs/python3/lib/python3.10/site-packages/sagemaker/feature_store/feature_group.py#251\u001b\\\u001b[2m251\u001b[0m\u001b]8;;\u001b\\\n",
      "\u001b[2;36m                   \u001b[0m\u001b[2;36m \u001b[0m\u001b[1;94mINFO    \u001b[0m Started ingesting index \u001b[1;36m0\u001b[0m to \u001b[1;36m2\u001b[0m \u001b]8;id=249552;file:///home/ec2-user/anaconda3/envs/python3/lib/python3.10/site-packages/sagemaker/feature_store/feature_group.py\u001b\\\u001b[2mfeature_group.py\u001b[0m\u001b]8;;\u001b\\\u001b[2m:\u001b[0m\u001b]8;id=155759;file:///home/ec2-user/anaconda3/envs/python3/lib/python3.10/site-packages/sagemaker/feature_store/feature_group.py#251\u001b\\\u001b[2m251\u001b[0m\u001b]8;;\u001b\\\n",
      "\u001b[2;36m[04/08/25 22:55:56]\u001b[0m\u001b[2;36m \u001b[0m\u001b[1;94mINFO    \u001b[0m Successfully ingested row \u001b[1;36m2\u001b[0m to \u001b]8;id=144146;file:///home/ec2-user/anaconda3/envs/python3/lib/python3.10/site-packages/sagemaker/feature_store/feature_group.py\u001b\\\u001b[2mfeature_group.py\u001b[0m\u001b]8;;\u001b\\\u001b[2m:\u001b[0m\u001b]8;id=885359;file:///home/ec2-user/anaconda3/envs/python3/lib/python3.10/site-packages/sagemaker/feature_store/feature_group.py#578\u001b\\\u001b[2m578\u001b[0m\u001b]8;;\u001b\\\n",
      "\u001b[2;36m                    \u001b[0m         \u001b[1;36m4\u001b[0m                              \u001b[2m                    \u001b[0m\n",
      "\u001b[2;36m                   \u001b[0m\u001b[2;36m \u001b[0m\u001b[1;94mINFO    \u001b[0m Successfully ingested row \u001b[1;36m4\u001b[0m to \u001b]8;id=755923;file:///home/ec2-user/anaconda3/envs/python3/lib/python3.10/site-packages/sagemaker/feature_store/feature_group.py\u001b\\\u001b[2mfeature_group.py\u001b[0m\u001b]8;;\u001b\\\u001b[2m:\u001b[0m\u001b]8;id=233136;file:///home/ec2-user/anaconda3/envs/python3/lib/python3.10/site-packages/sagemaker/feature_store/feature_group.py#578\u001b\\\u001b[2m578\u001b[0m\u001b]8;;\u001b\\\n",
      "\u001b[2;36m                    \u001b[0m         \u001b[1;36m5\u001b[0m                              \u001b[2m                    \u001b[0m\n",
      "\u001b[2;36m                   \u001b[0m\u001b[2;36m \u001b[0m\u001b[1;94mINFO    \u001b[0m Successfully ingested row \u001b[1;36m0\u001b[0m to \u001b]8;id=698528;file:///home/ec2-user/anaconda3/envs/python3/lib/python3.10/site-packages/sagemaker/feature_store/feature_group.py\u001b\\\u001b[2mfeature_group.py\u001b[0m\u001b]8;;\u001b\\\u001b[2m:\u001b[0m\u001b]8;id=420222;file:///home/ec2-user/anaconda3/envs/python3/lib/python3.10/site-packages/sagemaker/feature_store/feature_group.py#578\u001b\\\u001b[2m578\u001b[0m\u001b]8;;\u001b\\\n",
      "\u001b[2;36m                    \u001b[0m         \u001b[1;36m2\u001b[0m                              \u001b[2m                    \u001b[0m\n",
      "✅ Successfully ingested 5 records into 'creditcard-fg2'.\n"
     ]
    }
   ],
   "source": [
    "!python feature_store.py"
   ]
  },
  {
   "cell_type": "code",
   "execution_count": 18,
   "id": "580078ca-833d-47b0-bb28-741f6ca787af",
   "metadata": {},
   "outputs": [
    {
     "name": "stdout",
     "output_type": "stream",
     "text": [
      "/home/ec2-user/anaconda3/envs/python3/lib/python3.10/site-packages/pydantic/_internal/_fields.py:198: UserWarning: Field name \"json\" in \"MonitoringDatasetFormat\" shadows an attribute in parent \"Base\"\n",
      "  warnings.warn(\n",
      "\u001b[2;36m[04/08/25 23:02:42]\u001b[0m\u001b[2;36m \u001b[0m\u001b[1;94mINFO    \u001b[0m Found credentials from IAM      \u001b]8;id=34908;file:///home/ec2-user/anaconda3/envs/python3/lib/python3.10/site-packages/botocore/credentials.py\u001b\\\u001b[2mcredentials.py\u001b[0m\u001b]8;;\u001b\\\u001b[2m:\u001b[0m\u001b]8;id=495144;file:///home/ec2-user/anaconda3/envs/python3/lib/python3.10/site-packages/botocore/credentials.py#1132\u001b\\\u001b[2m1132\u001b[0m\u001b]8;;\u001b\\\n",
      "\u001b[2;36m                    \u001b[0m         Role:                           \u001b[2m                   \u001b[0m\n",
      "\u001b[2;36m                    \u001b[0m         BaseNotebookInstanceEc2Instance \u001b[2m                   \u001b[0m\n",
      "\u001b[2;36m                    \u001b[0m         Role                            \u001b[2m                   \u001b[0m\n",
      "sagemaker.config INFO - Not applying SDK defaults from location: /etc/xdg/sagemaker/config.yaml\n",
      "sagemaker.config INFO - Not applying SDK defaults from location: /home/ec2-user/.config/sagemaker/config.yaml\n",
      "\u001b[2;36m[04/08/25 23:02:43]\u001b[0m\u001b[2;36m \u001b[0m\u001b[1;94mINFO    \u001b[0m Found credentials from IAM      \u001b]8;id=675431;file:///home/ec2-user/anaconda3/envs/python3/lib/python3.10/site-packages/botocore/credentials.py\u001b\\\u001b[2mcredentials.py\u001b[0m\u001b]8;;\u001b\\\u001b[2m:\u001b[0m\u001b]8;id=70395;file:///home/ec2-user/anaconda3/envs/python3/lib/python3.10/site-packages/botocore/credentials.py#1132\u001b\\\u001b[2m1132\u001b[0m\u001b]8;;\u001b\\\n",
      "\u001b[2;36m                    \u001b[0m         Role:                           \u001b[2m                   \u001b[0m\n",
      "\u001b[2;36m                    \u001b[0m         BaseNotebookInstanceEc2Instance \u001b[2m                   \u001b[0m\n",
      "\u001b[2;36m                    \u001b[0m         Role                            \u001b[2m                   \u001b[0m\n",
      "\u001b[2;36m                   \u001b[0m\u001b[2;36m \u001b[0m\u001b[1;94mINFO    \u001b[0m Found credentials from IAM      \u001b]8;id=979817;file:///home/ec2-user/anaconda3/envs/python3/lib/python3.10/site-packages/botocore/credentials.py\u001b\\\u001b[2mcredentials.py\u001b[0m\u001b]8;;\u001b\\\u001b[2m:\u001b[0m\u001b]8;id=842047;file:///home/ec2-user/anaconda3/envs/python3/lib/python3.10/site-packages/botocore/credentials.py#1132\u001b\\\u001b[2m1132\u001b[0m\u001b]8;;\u001b\\\n",
      "\u001b[2;36m                    \u001b[0m         Role:                           \u001b[2m                   \u001b[0m\n",
      "\u001b[2;36m                    \u001b[0m         BaseNotebookInstanceEc2Instance \u001b[2m                   \u001b[0m\n",
      "\u001b[2;36m                    \u001b[0m         Role                            \u001b[2m                   \u001b[0m\n",
      "\u001b[2;36m                   \u001b[0m\u001b[2;36m \u001b[0m\u001b[1;94mINFO    \u001b[0m Ignoring unnecessary Python       \u001b]8;id=268053;file:///home/ec2-user/anaconda3/envs/python3/lib/python3.10/site-packages/sagemaker/image_uris.py\u001b\\\u001b[2mimage_uris.py\u001b[0m\u001b]8;;\u001b\\\u001b[2m:\u001b[0m\u001b]8;id=188107;file:///home/ec2-user/anaconda3/envs/python3/lib/python3.10/site-packages/sagemaker/image_uris.py#603\u001b\\\u001b[2m603\u001b[0m\u001b]8;;\u001b\\\n",
      "\u001b[2;36m                    \u001b[0m         version: py3.                     \u001b[2m                 \u001b[0m\n",
      "\u001b[2;36m                   \u001b[0m\u001b[2;36m \u001b[0m\u001b[1;94mINFO    \u001b[0m Ignoring unnecessary instance     \u001b]8;id=50060;file:///home/ec2-user/anaconda3/envs/python3/lib/python3.10/site-packages/sagemaker/image_uris.py\u001b\\\u001b[2mimage_uris.py\u001b[0m\u001b]8;;\u001b\\\u001b[2m:\u001b[0m\u001b]8;id=48701;file:///home/ec2-user/anaconda3/envs/python3/lib/python3.10/site-packages/sagemaker/image_uris.py#530\u001b\\\u001b[2m530\u001b[0m\u001b]8;;\u001b\\\n",
      "\u001b[2;36m                    \u001b[0m         type: ml.m4.xlarge.               \u001b[2m                 \u001b[0m\n",
      "Using XGBoost image: 683313688378.dkr.ecr.us-east-1.amazonaws.com/sagemaker-xgboost:1.5-1\n",
      "\u001b[2;36m                   \u001b[0m\u001b[2;36m \u001b[0m\u001b[1;94mINFO    \u001b[0m Found credentials from IAM      \u001b]8;id=544762;file:///home/ec2-user/anaconda3/envs/python3/lib/python3.10/site-packages/botocore/credentials.py\u001b\\\u001b[2mcredentials.py\u001b[0m\u001b]8;;\u001b\\\u001b[2m:\u001b[0m\u001b]8;id=542841;file:///home/ec2-user/anaconda3/envs/python3/lib/python3.10/site-packages/botocore/credentials.py#1132\u001b\\\u001b[2m1132\u001b[0m\u001b]8;;\u001b\\\n",
      "\u001b[2;36m                    \u001b[0m         Role:                           \u001b[2m                   \u001b[0m\n",
      "\u001b[2;36m                    \u001b[0m         BaseNotebookInstanceEc2Instance \u001b[2m                   \u001b[0m\n",
      "\u001b[2;36m                    \u001b[0m         Role                            \u001b[2m                   \u001b[0m\n",
      "\u001b[2;36m[04/08/25 23:02:44]\u001b[0m\u001b[2;36m \u001b[0m\u001b[1;94mINFO    \u001b[0m SageMaker Python SDK will   \u001b]8;id=885444;file:///home/ec2-user/anaconda3/envs/python3/lib/python3.10/site-packages/sagemaker/telemetry/telemetry_logging.py\u001b\\\u001b[2mtelemetry_logging.py\u001b[0m\u001b]8;;\u001b\\\u001b[2m:\u001b[0m\u001b]8;id=78150;file:///home/ec2-user/anaconda3/envs/python3/lib/python3.10/site-packages/sagemaker/telemetry/telemetry_logging.py#91\u001b\\\u001b[2m91\u001b[0m\u001b]8;;\u001b\\\n",
      "\u001b[2;36m                    \u001b[0m         collect telemetry to help   \u001b[2m                       \u001b[0m\n",
      "\u001b[2;36m                    \u001b[0m         us better understand our    \u001b[2m                       \u001b[0m\n",
      "\u001b[2;36m                    \u001b[0m         user's needs, diagnose      \u001b[2m                       \u001b[0m\n",
      "\u001b[2;36m                    \u001b[0m         issues, and deliver         \u001b[2m                       \u001b[0m\n",
      "\u001b[2;36m                    \u001b[0m         additional features.        \u001b[2m                       \u001b[0m\n",
      "\u001b[2;36m                    \u001b[0m         To opt out of telemetry,    \u001b[2m                       \u001b[0m\n",
      "\u001b[2;36m                    \u001b[0m         please disable via          \u001b[2m                       \u001b[0m\n",
      "\u001b[2;36m                    \u001b[0m         TelemetryOptOut parameter   \u001b[2m                       \u001b[0m\n",
      "\u001b[2;36m                    \u001b[0m         in SDK defaults config. For \u001b[2m                       \u001b[0m\n",
      "\u001b[2;36m                    \u001b[0m         more information, refer to  \u001b[2m                       \u001b[0m\n",
      "\u001b[2;36m                    \u001b[0m         \u001b[4;94mhttps://sagemaker.readthedo\u001b[0m \u001b[2m                       \u001b[0m\n",
      "\u001b[2;36m                    \u001b[0m         \u001b[4;94mcs.io/en/stable/overview.ht\u001b[0m \u001b[2m                       \u001b[0m\n",
      "\u001b[2;36m                    \u001b[0m         \u001b[4;94mml#configuring-and-using-de\u001b[0m \u001b[2m                       \u001b[0m\n",
      "\u001b[2;36m                    \u001b[0m         \u001b[4;94mfaults-with-the-sagemaker-p\u001b[0m \u001b[2m                       \u001b[0m\n",
      "\u001b[2;36m                    \u001b[0m         \u001b[4;94mython-sdk.\u001b[0m                  \u001b[2m                       \u001b[0m\n",
      "\u001b[2;36m                   \u001b[0m\u001b[2;36m \u001b[0m\u001b[1;94mINFO    \u001b[0m Creating training-job with name:    \u001b]8;id=718620;file:///home/ec2-user/anaconda3/envs/python3/lib/python3.10/site-packages/sagemaker/session.py\u001b\\\u001b[2msession.py\u001b[0m\u001b]8;;\u001b\\\u001b[2m:\u001b[0m\u001b]8;id=146038;file:///home/ec2-user/anaconda3/envs/python3/lib/python3.10/site-packages/sagemaker/session.py#1042\u001b\\\u001b[2m1042\u001b[0m\u001b]8;;\u001b\\\n",
      "\u001b[2;36m                    \u001b[0m         sagemaker-xgboost-\u001b[1;36m2025\u001b[0m-04-08-23-02- \u001b[2m               \u001b[0m\n",
      "\u001b[2;36m                    \u001b[0m         44-117                              \u001b[2m               \u001b[0m\n",
      "2025-04-08 23:02:46 Starting - Starting the training job...\n",
      "2025-04-08 23:03:01 Starting - Preparing the instances for training...\n",
      "2025-04-08 23:03:28 Downloading - Downloading input data...\n",
      "2025-04-08 23:03:58 Downloading - Downloading the training image......\n",
      "2025-04-08 23:05:20 Training - Training image download completed. Training in progress.\n",
      "2025-04-08 23:05:20 Uploading - Uploading generated training model.\u001b[34m/miniconda3/lib/python3.8/site-packages/xgboost/compat.py:36: FutureWarning: pandas.Int64Index is deprecated and will be removed from pandas in a future version. Use pandas.Index with the appropriate dtype instead.\n",
      "  from pandas import MultiIndex, Int64Index\u001b[0m\n",
      "\u001b[34m[2025-04-08 23:05:16.298 ip-10-0-249-47.ec2.internal:8 INFO utils.py:28] RULE_JOB_STOP_SIGNAL_FILENAME: None\u001b[0m\n",
      "\u001b[34m[2025-04-08 23:05:16.324 ip-10-0-249-47.ec2.internal:8 INFO profiler_config_parser.py:111] User has disabled profiler.\u001b[0m\n",
      "\u001b[34m[2025-04-08:23:05:16:INFO] Imported framework sagemaker_xgboost_container.training\u001b[0m\n",
      "\u001b[34m[2025-04-08:23:05:16:INFO] Failed to parse hyperparameter objective value binary:logistic to Json.\u001b[0m\n",
      "\u001b[34mReturning the value itself\u001b[0m\n",
      "\u001b[34m[2025-04-08:23:05:16:INFO] No GPUs detected (normal if no gpus installed)\u001b[0m\n",
      "\u001b[34m[2025-04-08:23:05:16:INFO] Running XGBoost Sagemaker in algorithm mode\u001b[0m\n",
      "\u001b[34m[2025-04-08:23:05:16:INFO] Determined 0 GPU(s) available on the instance.\u001b[0m\n",
      "\u001b[34m[2025-04-08:23:05:16:INFO] Determined delimiter of CSV input is ','\u001b[0m\n",
      "\u001b[34m[2025-04-08:23:05:16:INFO] Determined delimiter of CSV input is ','\u001b[0m\n",
      "\u001b[34m[2025-04-08:23:05:16:INFO] files path: /opt/ml/input/data/train\u001b[0m\n",
      "\u001b[34m[2025-04-08:23:05:16:INFO] Determined delimiter of CSV input is ','\u001b[0m\n",
      "\u001b[34m[2025-04-08:23:05:16:INFO] files path: /opt/ml/input/data/validation\u001b[0m\n",
      "\u001b[34m[2025-04-08:23:05:16:INFO] Determined delimiter of CSV input is ','\u001b[0m\n",
      "\u001b[34m[2025-04-08:23:05:16:INFO] Single node training.\u001b[0m\n",
      "\u001b[34m[2025-04-08:23:05:16:INFO] Train matrix has 788 rows and 30 columns\u001b[0m\n",
      "\u001b[34m[2025-04-08:23:05:16:INFO] Validation matrix has 198 rows\u001b[0m\n",
      "\u001b[34m[2025-04-08 23:05:16.759 ip-10-0-249-47.ec2.internal:8 INFO json_config.py:92] Creating hook from json_config at /opt/ml/input/config/debughookconfig.json.\u001b[0m\n",
      "\u001b[34m[2025-04-08 23:05:16.759 ip-10-0-249-47.ec2.internal:8 INFO hook.py:206] tensorboard_dir has not been set for the hook. SMDebug will not be exporting tensorboard summaries.\u001b[0m\n",
      "\u001b[34m[2025-04-08 23:05:16.760 ip-10-0-249-47.ec2.internal:8 INFO hook.py:259] Saving to /opt/ml/output/tensors\u001b[0m\n",
      "\u001b[34m[2025-04-08 23:05:16.760 ip-10-0-249-47.ec2.internal:8 INFO state_store.py:77] The checkpoint config file /opt/ml/input/config/checkpointconfig.json does not exist.\u001b[0m\n",
      "\u001b[34m[2025-04-08:23:05:16:INFO] Debug hook created from config\u001b[0m\n",
      "\u001b[34m[23:05:16] WARNING: ../src/learner.cc:1115: Starting in XGBoost 1.3.0, the default evaluation metric used with the objective 'binary:logistic' was changed from 'error' to 'logloss'. Explicitly set eval_metric if you'd like to restore the old behavior.\u001b[0m\n",
      "\u001b[34m[2025-04-08 23:05:16.782 ip-10-0-249-47.ec2.internal:8 INFO hook.py:427] Monitoring the collections: metrics\u001b[0m\n",
      "\u001b[34m[2025-04-08 23:05:16.787 ip-10-0-249-47.ec2.internal:8 INFO hook.py:491] Hook is writing from the hook with pid: 8\u001b[0m\n",
      "\u001b[34m[0]#011train-logloss:0.46408#011validation-logloss:0.47810\u001b[0m\n",
      "\u001b[34m[1]#011train-logloss:0.33387#011validation-logloss:0.35484\u001b[0m\n",
      "\u001b[34m[2]#011train-logloss:0.25131#011validation-logloss:0.28377\u001b[0m\n",
      "\u001b[34m[3]#011train-logloss:0.19531#011validation-logloss:0.23418\u001b[0m\n",
      "\u001b[34m[4]#011train-logloss:0.15436#011validation-logloss:0.20222\u001b[0m\n",
      "\u001b[34m[5]#011train-logloss:0.12578#011validation-logloss:0.18359\u001b[0m\n",
      "\u001b[34m[6]#011train-logloss:0.10450#011validation-logloss:0.16997\u001b[0m\n",
      "\u001b[34m[7]#011train-logloss:0.08722#011validation-logloss:0.15944\u001b[0m\n",
      "\u001b[34m[8]#011train-logloss:0.07379#011validation-logloss:0.15169\u001b[0m\n",
      "\u001b[34m[9]#011train-logloss:0.06327#011validation-logloss:0.14727\u001b[0m\n",
      "\u001b[34m[10]#011train-logloss:0.05498#011validation-logloss:0.14439\u001b[0m\n",
      "\u001b[34m[11]#011train-logloss:0.04821#011validation-logloss:0.14444\u001b[0m\n",
      "\u001b[34m[12]#011train-logloss:0.04274#011validation-logloss:0.14452\u001b[0m\n",
      "\u001b[34m[13]#011train-logloss:0.03916#011validation-logloss:0.14386\u001b[0m\n",
      "\u001b[34m[14]#011train-logloss:0.03531#011validation-logloss:0.14281\u001b[0m\n",
      "\u001b[34m[15]#011train-logloss:0.03145#011validation-logloss:0.13581\u001b[0m\n",
      "\u001b[34m[16]#011train-logloss:0.02852#011validation-logloss:0.13877\u001b[0m\n",
      "\u001b[34m[17]#011train-logloss:0.02579#011validation-logloss:0.13298\u001b[0m\n",
      "\u001b[34m[18]#011train-logloss:0.02344#011validation-logloss:0.13553\u001b[0m\n",
      "\u001b[34m[19]#011train-logloss:0.02150#011validation-logloss:0.13198\u001b[0m\n",
      "\u001b[34m[20]#011train-logloss:0.01999#011validation-logloss:0.13474\u001b[0m\n",
      "\u001b[34m[21]#011train-logloss:0.01866#011validation-logloss:0.13695\u001b[0m\n",
      "\u001b[34m[22]#011train-logloss:0.01736#011validation-logloss:0.13912\u001b[0m\n",
      "\u001b[34m[23]#011train-logloss:0.01646#011validation-logloss:0.13819\u001b[0m\n",
      "\u001b[34m[24]#011train-logloss:0.01570#011validation-logloss:0.14047\u001b[0m\n",
      "\u001b[34m[25]#011train-logloss:0.01480#011validation-logloss:0.13530\u001b[0m\n",
      "\u001b[34m[26]#011train-logloss:0.01414#011validation-logloss:0.13495\u001b[0m\n",
      "\u001b[34m[27]#011train-logloss:0.01354#011validation-logloss:0.13564\u001b[0m\n",
      "\u001b[34m[28]#011train-logloss:0.01301#011validation-logloss:0.13570\u001b[0m\n",
      "\u001b[34m[29]#011train-logloss:0.01256#011validation-logloss:0.13640\u001b[0m\n",
      "\u001b[34m[30]#011train-logloss:0.01214#011validation-logloss:0.13656\u001b[0m\n",
      "\u001b[34m[31]#011train-logloss:0.01162#011validation-logloss:0.13735\u001b[0m\n",
      "\u001b[34m[32]#011train-logloss:0.01125#011validation-logloss:0.13790\u001b[0m\n",
      "\u001b[34m[33]#011train-logloss:0.01088#011validation-logloss:0.13606\u001b[0m\n",
      "\u001b[34m[34]#011train-logloss:0.01048#011validation-logloss:0.13312\u001b[0m\n",
      "\u001b[34m[35]#011train-logloss:0.01021#011validation-logloss:0.13427\u001b[0m\n",
      "\u001b[34m[36]#011train-logloss:0.00982#011validation-logloss:0.13358\u001b[0m\n",
      "\u001b[34m[37]#011train-logloss:0.00958#011validation-logloss:0.13426\u001b[0m\n",
      "\u001b[34m[38]#011train-logloss:0.00936#011validation-logloss:0.13484\u001b[0m\n",
      "\u001b[34m[39]#011train-logloss:0.00915#011validation-logloss:0.13464\u001b[0m\n",
      "\u001b[34m[40]#011train-logloss:0.00899#011validation-logloss:0.13545\u001b[0m\n",
      "\u001b[34m[41]#011train-logloss:0.00884#011validation-logloss:0.13446\u001b[0m\n",
      "\u001b[34m[42]#011train-logloss:0.00868#011validation-logloss:0.13400\u001b[0m\n",
      "\u001b[34m[43]#011train-logloss:0.00844#011validation-logloss:0.13535\u001b[0m\n",
      "\u001b[34m[44]#011train-logloss:0.00825#011validation-logloss:0.13600\u001b[0m\n",
      "\u001b[34m[45]#011train-logloss:0.00811#011validation-logloss:0.13631\u001b[0m\n",
      "\u001b[34m[46]#011train-logloss:0.00796#011validation-logloss:0.13585\u001b[0m\n",
      "\u001b[34m[47]#011train-logloss:0.00786#011validation-logloss:0.13696\u001b[0m\n",
      "\u001b[34m[48]#011train-logloss:0.00770#011validation-logloss:0.13803\u001b[0m\n",
      "\u001b[34m[49]#011train-logloss:0.00759#011validation-logloss:0.13856\u001b[0m\n",
      "\u001b[34m[50]#011train-logloss:0.00748#011validation-logloss:0.13927\u001b[0m\n",
      "\u001b[34m[51]#011train-logloss:0.00738#011validation-logloss:0.14039\u001b[0m\n",
      "\u001b[34m[52]#011train-logloss:0.00727#011validation-logloss:0.14093\u001b[0m\n",
      "\u001b[34m[53]#011train-logloss:0.00719#011validation-logloss:0.14079\u001b[0m\n",
      "\u001b[34m[54]#011train-logloss:0.00712#011validation-logloss:0.14179\u001b[0m\n",
      "\u001b[34m[55]#011train-logloss:0.00703#011validation-logloss:0.14180\u001b[0m\n",
      "\u001b[34m[56]#011train-logloss:0.00691#011validation-logloss:0.14041\u001b[0m\n",
      "\u001b[34m[57]#011train-logloss:0.00679#011validation-logloss:0.14108\u001b[0m\n",
      "\u001b[34m[58]#011train-logloss:0.00669#011validation-logloss:0.14141\u001b[0m\n",
      "\u001b[34m[59]#011train-logloss:0.00661#011validation-logloss:0.14227\u001b[0m\n",
      "\u001b[34m[60]#011train-logloss:0.00655#011validation-logloss:0.14203\u001b[0m\n",
      "\u001b[34m[61]#011train-logloss:0.00647#011validation-logloss:0.14197\u001b[0m\n",
      "\u001b[34m[62]#011train-logloss:0.00640#011validation-logloss:0.14218\u001b[0m\n",
      "\u001b[34m[63]#011train-logloss:0.00634#011validation-logloss:0.14129\u001b[0m\n",
      "\u001b[34m[64]#011train-logloss:0.00629#011validation-logloss:0.14033\u001b[0m\n",
      "\u001b[34m[65]#011train-logloss:0.00622#011validation-logloss:0.14056\u001b[0m\n",
      "\u001b[34m[66]#011train-logloss:0.00617#011validation-logloss:0.14081\u001b[0m\n",
      "\u001b[34m[67]#011train-logloss:0.00612#011validation-logloss:0.14058\u001b[0m\n",
      "\u001b[34m[68]#011train-logloss:0.00606#011validation-logloss:0.14014\u001b[0m\n",
      "\u001b[34m[69]#011train-logloss:0.00599#011validation-logloss:0.13934\u001b[0m\n",
      "\u001b[34m[70]#011train-logloss:0.00594#011validation-logloss:0.13921\u001b[0m\n",
      "\u001b[34m[71]#011train-logloss:0.00589#011validation-logloss:0.13956\u001b[0m\n",
      "\u001b[34m[72]#011train-logloss:0.00584#011validation-logloss:0.13913\u001b[0m\n",
      "\u001b[34m[73]#011train-logloss:0.00578#011validation-logloss:0.13928\u001b[0m\n",
      "\u001b[34m[74]#011train-logloss:0.00573#011validation-logloss:0.13973\u001b[0m\n",
      "\u001b[34m[75]#011train-logloss:0.00569#011validation-logloss:0.14009\u001b[0m\n",
      "\u001b[34m[76]#011train-logloss:0.00565#011validation-logloss:0.14034\u001b[0m\n",
      "\u001b[34m[77]#011train-logloss:0.00561#011validation-logloss:0.13999\u001b[0m\n",
      "\u001b[34m[78]#011train-logloss:0.00557#011validation-logloss:0.13994\u001b[0m\n",
      "\u001b[34m[79]#011train-logloss:0.00554#011validation-logloss:0.13977\u001b[0m\n",
      "\u001b[34m[80]#011train-logloss:0.00551#011validation-logloss:0.14000\u001b[0m\n",
      "\u001b[34m[81]#011train-logloss:0.00546#011validation-logloss:0.14081\u001b[0m\n",
      "\u001b[34m[82]#011train-logloss:0.00543#011validation-logloss:0.14058\u001b[0m\n",
      "\u001b[34m[83]#011train-logloss:0.00539#011validation-logloss:0.14034\u001b[0m\n",
      "\u001b[34m[84]#011train-logloss:0.00536#011validation-logloss:0.14018\u001b[0m\n",
      "\u001b[34m[85]#011train-logloss:0.00533#011validation-logloss:0.14055\u001b[0m\n",
      "\u001b[34m[86]#011train-logloss:0.00530#011validation-logloss:0.13999\u001b[0m\n",
      "\u001b[34m[87]#011train-logloss:0.00528#011validation-logloss:0.14102\u001b[0m\n",
      "\u001b[34m[88]#011train-logloss:0.00525#011validation-logloss:0.14123\u001b[0m\n",
      "\u001b[34m[89]#011train-logloss:0.00521#011validation-logloss:0.14094\u001b[0m\n",
      "\u001b[34m[90]#011train-logloss:0.00520#011validation-logloss:0.14041\u001b[0m\n",
      "\u001b[34m[91]#011train-logloss:0.00517#011validation-logloss:0.14042\u001b[0m\n",
      "\u001b[34m[92]#011train-logloss:0.00513#011validation-logloss:0.14118\u001b[0m\n",
      "\u001b[34m[93]#011train-logloss:0.00510#011validation-logloss:0.14093\u001b[0m\n",
      "\u001b[34m[94]#011train-logloss:0.00508#011validation-logloss:0.14083\u001b[0m\n",
      "\u001b[34m[95]#011train-logloss:0.00504#011validation-logloss:0.14152\u001b[0m\n",
      "\u001b[34m[96]#011train-logloss:0.00502#011validation-logloss:0.14103\u001b[0m\n",
      "\u001b[34m[97]#011train-logloss:0.00499#011validation-logloss:0.14148\u001b[0m\n",
      "\u001b[34m[98]#011train-logloss:0.00498#011validation-logloss:0.14200\u001b[0m\n",
      "\u001b[34m[99]#011train-logloss:0.00497#011validation-logloss:0.14173\u001b[0m\n",
      "\n",
      "2025-04-08 23:05:33 Completed - Training job completed\n",
      "Training seconds: 125\n",
      "Billable seconds: 125\n",
      "✅ Training complete.\n"
     ]
    }
   ],
   "source": [
    "!python train_xgboost.py"
   ]
  },
  {
   "cell_type": "code",
   "execution_count": 24,
   "id": "f1acde86-0ad6-40e0-a18a-e0bd4f5cb93d",
   "metadata": {},
   "outputs": [],
   "source": [
    "os.environ['TRAIN_JOB_NAME'] = 'trainingjobregister'\n"
   ]
  },
  {
   "cell_type": "code",
   "execution_count": 31,
   "id": "4a3fd31d-b364-4c06-9b42-c01abae75b8a",
   "metadata": {},
   "outputs": [
    {
     "name": "stdout",
     "output_type": "stream",
     "text": [
      "/home/ec2-user/anaconda3/envs/python3/lib/python3.10/site-packages/pydantic/_internal/_fields.py:198: UserWarning: Field name \"json\" in \"MonitoringDatasetFormat\" shadows an attribute in parent \"Base\"\n",
      "  warnings.warn(\n",
      "\u001b[2;36m[04/08/25 23:24:28]\u001b[0m\u001b[2;36m \u001b[0m\u001b[1;94mINFO    \u001b[0m Found credentials from IAM      \u001b]8;id=67765;file:///home/ec2-user/anaconda3/envs/python3/lib/python3.10/site-packages/botocore/credentials.py\u001b\\\u001b[2mcredentials.py\u001b[0m\u001b]8;;\u001b\\\u001b[2m:\u001b[0m\u001b]8;id=432612;file:///home/ec2-user/anaconda3/envs/python3/lib/python3.10/site-packages/botocore/credentials.py#1132\u001b\\\u001b[2m1132\u001b[0m\u001b]8;;\u001b\\\n",
      "\u001b[2;36m                    \u001b[0m         Role:                           \u001b[2m                   \u001b[0m\n",
      "\u001b[2;36m                    \u001b[0m         BaseNotebookInstanceEc2Instance \u001b[2m                   \u001b[0m\n",
      "\u001b[2;36m                    \u001b[0m         Role                            \u001b[2m                   \u001b[0m\n",
      "sagemaker.config INFO - Not applying SDK defaults from location: /etc/xdg/sagemaker/config.yaml\n",
      "sagemaker.config INFO - Not applying SDK defaults from location: /home/ec2-user/.config/sagemaker/config.yaml\n",
      "\u001b[2;36m[04/08/25 23:24:29]\u001b[0m\u001b[2;36m \u001b[0m\u001b[1;94mINFO    \u001b[0m Found credentials from IAM      \u001b]8;id=152267;file:///home/ec2-user/anaconda3/envs/python3/lib/python3.10/site-packages/botocore/credentials.py\u001b\\\u001b[2mcredentials.py\u001b[0m\u001b]8;;\u001b\\\u001b[2m:\u001b[0m\u001b]8;id=62210;file:///home/ec2-user/anaconda3/envs/python3/lib/python3.10/site-packages/botocore/credentials.py#1132\u001b\\\u001b[2m1132\u001b[0m\u001b]8;;\u001b\\\n",
      "\u001b[2;36m                    \u001b[0m         Role:                           \u001b[2m                   \u001b[0m\n",
      "\u001b[2;36m                    \u001b[0m         BaseNotebookInstanceEc2Instance \u001b[2m                   \u001b[0m\n",
      "\u001b[2;36m                    \u001b[0m         Role                            \u001b[2m                   \u001b[0m\n",
      "⚠️  TRAIN_JOB_NAME 'trainingjobregister' not found. Falling back...\n",
      "🔍 Looking for latest completed training job...\n",
      "✅ Using training job: sagemaker-xgboost-2025-04-08-23-02-44-117\n",
      "⚠️  ModelPackageGroup 'creditcard-mpg' exists. Deleting...\n",
      "✅ Deleted ModelPackageGroup.\n",
      "✅ Created MPG 'creditcard-mpg'\n",
      "\u001b[2;36m[04/08/25 23:24:30]\u001b[0m\u001b[2;36m \u001b[0m\u001b[1;94mINFO    \u001b[0m Ignoring unnecessary instance     \u001b]8;id=518827;file:///home/ec2-user/anaconda3/envs/python3/lib/python3.10/site-packages/sagemaker/image_uris.py\u001b\\\u001b[2mimage_uris.py\u001b[0m\u001b]8;;\u001b\\\u001b[2m:\u001b[0m\u001b]8;id=710450;file:///home/ec2-user/anaconda3/envs/python3/lib/python3.10/site-packages/sagemaker/image_uris.py#530\u001b\\\u001b[2m530\u001b[0m\u001b]8;;\u001b\\\n",
      "\u001b[2;36m                    \u001b[0m         type: \u001b[3;35mNone\u001b[0m.                       \u001b[2m                 \u001b[0m\n",
      "🧠 Using container: 683313688378.dkr.ecr.us-east-1.amazonaws.com/sagemaker-xgboost:1.5-1\n",
      "✅ Model registered: arn:aws:sagemaker:us-east-1:419622399030:model-package/creditcard-mpg/1\n"
     ]
    }
   ],
   "source": [
    "!python register_model.py"
   ]
  },
  {
   "cell_type": "code",
   "execution_count": 34,
   "id": "39c88dc3-b30e-437a-b371-82de04146acf",
   "metadata": {},
   "outputs": [],
   "source": [
    "os.environ['SAGEMAKER_ROLE_ARN']=\"arn:aws:iam::419622399030:role/service-role/AmazonSageMakerServiceCatalogProductsUseRole\""
   ]
  },
  {
   "cell_type": "code",
   "execution_count": 40,
   "id": "5cc5e603-c559-4cd6-a65b-65369e039034",
   "metadata": {},
   "outputs": [
    {
     "name": "stdout",
     "output_type": "stream",
     "text": [
      "/home/ec2-user/anaconda3/envs/python3/lib/python3.10/site-packages/pydantic/_internal/_fields.py:198: UserWarning: Field name \"json\" in \"MonitoringDatasetFormat\" shadows an attribute in parent \"Base\"\n",
      "  warnings.warn(\n",
      "\u001b[2;36m[04/08/25 23:38:43]\u001b[0m\u001b[2;36m \u001b[0m\u001b[1;94mINFO    \u001b[0m Found credentials from IAM      \u001b]8;id=9089;file:///home/ec2-user/anaconda3/envs/python3/lib/python3.10/site-packages/botocore/credentials.py\u001b\\\u001b[2mcredentials.py\u001b[0m\u001b]8;;\u001b\\\u001b[2m:\u001b[0m\u001b]8;id=900976;file:///home/ec2-user/anaconda3/envs/python3/lib/python3.10/site-packages/botocore/credentials.py#1132\u001b\\\u001b[2m1132\u001b[0m\u001b]8;;\u001b\\\n",
      "\u001b[2;36m                    \u001b[0m         Role:                           \u001b[2m                   \u001b[0m\n",
      "\u001b[2;36m                    \u001b[0m         BaseNotebookInstanceEc2Instance \u001b[2m                   \u001b[0m\n",
      "\u001b[2;36m                    \u001b[0m         Role                            \u001b[2m                   \u001b[0m\n",
      "sagemaker.config INFO - Not applying SDK defaults from location: /etc/xdg/sagemaker/config.yaml\n",
      "sagemaker.config INFO - Not applying SDK defaults from location: /home/ec2-user/.config/sagemaker/config.yaml\n",
      "\u001b[2;36m                   \u001b[0m\u001b[2;36m \u001b[0m\u001b[1;94mINFO    \u001b[0m Found credentials from IAM      \u001b]8;id=890878;file:///home/ec2-user/anaconda3/envs/python3/lib/python3.10/site-packages/botocore/credentials.py\u001b\\\u001b[2mcredentials.py\u001b[0m\u001b]8;;\u001b\\\u001b[2m:\u001b[0m\u001b]8;id=219641;file:///home/ec2-user/anaconda3/envs/python3/lib/python3.10/site-packages/botocore/credentials.py#1132\u001b\\\u001b[2m1132\u001b[0m\u001b]8;;\u001b\\\n",
      "\u001b[2;36m                    \u001b[0m         Role:                           \u001b[2m                   \u001b[0m\n",
      "\u001b[2;36m                    \u001b[0m         BaseNotebookInstanceEc2Instance \u001b[2m                   \u001b[0m\n",
      "\u001b[2;36m                    \u001b[0m         Role                            \u001b[2m                   \u001b[0m\n",
      "✅ Created endpoint: creditcard-endpoint\n"
     ]
    }
   ],
   "source": [
    "!python deploy_endpoint.py"
   ]
  },
  {
   "cell_type": "code",
   "execution_count": 45,
   "id": "3a926245-caab-47f1-b681-60ebe33187f7",
   "metadata": {},
   "outputs": [
    {
     "name": "stdout",
     "output_type": "stream",
     "text": [
      "➡️  creditcard-endpoint - Status: InService\n"
     ]
    }
   ],
   "source": [
    "import boto3\n",
    "\n",
    "sm = boto3.client('sagemaker', region_name='us-east-1')  # Or your region\n",
    "endpoints = sm.list_endpoints(SortBy='CreationTime', SortOrder='Descending')\n",
    "\n",
    "for ep in endpoints['Endpoints']:\n",
    "    print(f\"➡️  {ep['EndpointName']} - Status: {ep['EndpointStatus']}\")\n"
   ]
  },
  {
   "cell_type": "code",
   "execution_count": 46,
   "id": "08a5adc6-3650-4240-9f45-8c52c07c60d9",
   "metadata": {},
   "outputs": [
    {
     "name": "stdout",
     "output_type": "stream",
     "text": [
      "🧠 Prediction: 0.9031805396080017\n",
      "\n"
     ]
    }
   ],
   "source": [
    "import os\n",
    "import boto3\n",
    "\n",
    "runtime = boto3.client('sagemaker-runtime', region_name=os.environ['AWS_REGION'])\n",
    "endpoint_name = os.environ['ENDPOINT_NAME']\n",
    "\n",
    "# Example row of input features (must match model input)\n",
    "# Adjust values and order to match your training dataset\n",
    "sample_payload = \"0.0,0.2,-1.3,1.4,0.5,0.0,0.0,0.2,-0.1,0.3,0.1,0.2,0.0,0.4,0.2,-0.5,0.6,-0.3,0.0,0.1,-0.4,0.2,0.1,0.0,150.0,0\"  # Example\n",
    "\n",
    "response = runtime.invoke_endpoint(\n",
    "    EndpointName=endpoint_name,\n",
    "    ContentType='text/csv',\n",
    "    Body=sample_payload\n",
    ")\n",
    "\n",
    "result = response['Body'].read().decode('utf-8')\n",
    "print(f\"🧠 Prediction: {result}\")\n"
   ]
  },
  {
   "cell_type": "code",
   "execution_count": null,
   "id": "11d2339b-6ff3-4d20-9ffc-b66fbf8f649d",
   "metadata": {},
   "outputs": [],
   "source": [
    "      - python preprocess.py\n",
    "      - python feature_store.py\n",
    "      - python train_xgboost.py\n",
    "      - python register_model.py\n",
    "      - python deploy_endpoint.py"
   ]
  },
  {
   "cell_type": "code",
   "execution_count": 49,
   "id": "cf7011ef-22e8-476a-b3f1-b592e87c632a",
   "metadata": {},
   "outputs": [
    {
     "name": "stderr",
     "output_type": "stream",
     "text": [
      "/home/ec2-user/anaconda3/envs/python3/lib/python3.10/site-packages/fsspec/registry.py:283: UserWarning: Your installed version of s3fs is very old and known to cause\n",
      "severe performance issues, see also https://github.com/dask/dask/issues/10276\n",
      "\n",
      "To fix, you should specify a lower version bound on s3fs, or\n",
      "update the current installation.\n",
      "\n",
      "  warnings.warn(s3_msg)\n"
     ]
    },
    {
     "name": "stdout",
     "output_type": "stream",
     "text": [
      "✅ Endpoint Accuracy: 0.5025\n"
     ]
    }
   ],
   "source": [
    "import os\n",
    "import boto3\n",
    "import pandas as pd\n",
    "import numpy as np\n",
    "from sklearn.metrics import accuracy_score\n",
    "\n",
    "# Load test data\n",
    "test_df = pd.read_csv('s3://fraud-detectml1/data/test.csv')  # adjust path if needed\n",
    "X_test = test_df.drop(columns=['Class'])  # assuming 'Class' is your label column\n",
    "y_test = test_df['Class']\n",
    "\n",
    "# Convert to CSV string (no header, no index)\n",
    "payload = X_test.to_csv(index=False, header=False).strip()\n",
    "\n",
    "# Endpoint name\n",
    "endpoint_name = os.environ['ENDPOINT_NAME']\n",
    "region = os.environ['AWS_REGION']\n",
    "\n",
    "# Invoke endpoint\n",
    "sm_runtime = boto3.client('sagemaker-runtime', region_name=region)\n",
    "response = sm_runtime.invoke_endpoint(\n",
    "    EndpointName=endpoint_name,\n",
    "    ContentType='text/csv',\n",
    "    Body=payload\n",
    ")\n",
    "\n",
    "# Parse prediction response\n",
    "result = response['Body'].read().decode('utf-8').strip().split('\\n')\n",
    "y_pred = np.array([int(float(pred)) for pred in result])\n",
    "\n",
    "# Evaluate\n",
    "acc = accuracy_score(y_test, y_pred)\n",
    "print(f'✅ Endpoint Accuracy: {acc:.4f}')\n"
   ]
  }
 ],
 "metadata": {
  "kernelspec": {
   "display_name": "conda_python3",
   "language": "python",
   "name": "conda_python3"
  },
  "language_info": {
   "codemirror_mode": {
    "name": "ipython",
    "version": 3
   },
   "file_extension": ".py",
   "mimetype": "text/x-python",
   "name": "python",
   "nbconvert_exporter": "python",
   "pygments_lexer": "ipython3",
   "version": "3.10.16"
  }
 },
 "nbformat": 4,
 "nbformat_minor": 5
}
